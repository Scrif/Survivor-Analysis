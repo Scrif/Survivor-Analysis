{
 "cells": [
  {
   "cell_type": "markdown",
   "id": "5d4dcb7d",
   "metadata": {},
   "source": [
    "Using data from https://cran.r-project.org/web/packages/survivoR/survivoR.pdf\n",
    "And https://github.com/doehm/survivoR"
   ]
  },
  {
   "cell_type": "code",
   "execution_count": 1,
   "id": "340d3549",
   "metadata": {},
   "outputs": [],
   "source": [
    "import numpy as np\n",
    "import pandas as pd\n",
    "import pyreadr as prdr\n",
    "import matplotlib.pyplot as plt\n",
    "import seaborn as sns"
   ]
  },
  {
   "cell_type": "code",
   "execution_count": null,
   "id": "220ba5dc",
   "metadata": {},
   "outputs": [],
   "source": []
  }
 ],
 "metadata": {
  "kernelspec": {
   "display_name": "Python 3 (ipykernel)",
   "language": "python",
   "name": "python3"
  },
  "language_info": {
   "codemirror_mode": {
    "name": "ipython",
    "version": 3
   },
   "file_extension": ".py",
   "mimetype": "text/x-python",
   "name": "python",
   "nbconvert_exporter": "python",
   "pygments_lexer": "ipython3",
   "version": "3.11.5"
  }
 },
 "nbformat": 4,
 "nbformat_minor": 5
}
