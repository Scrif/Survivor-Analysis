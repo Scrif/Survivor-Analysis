{
 "cells": [
  {
   "cell_type": "markdown",
   "id": "7c579050",
   "metadata": {},
   "source": [
    "Using data from https://cran.r-project.org/web/packages/survivoR/survivoR.pdf\n",
    "And https://github.com/doehm/survivoR"
   ]
  },
  {
   "cell_type": "code",
   "execution_count": 1,
   "id": "a31ed785",
   "metadata": {},
   "outputs": [],
   "source": [
    "import numpy as np\n",
    "import pandas as pd\n",
    "import pyreadr as prdr\n",
    "import matplotlib.pyplot as plt\n",
    "import seaborn as sns"
   ]
  },
  {
   "cell_type": "code",
   "execution_count": 7,
   "id": "970fcf8a",
   "metadata": {},
   "outputs": [],
   "source": [
    "people = prdr.read_r('castaway_details.rda')"
   ]
  },
  {
   "cell_type": "code",
   "execution_count": 8,
   "id": "b25cded5",
   "metadata": {},
   "outputs": [
    {
     "name": "stdout",
     "output_type": "stream",
     "text": [
      "odict_keys(['castaway_details'])\n"
     ]
    }
   ],
   "source": [
    "print(people.keys())"
   ]
  },
  {
   "cell_type": "code",
   "execution_count": 19,
   "id": "280d5f63",
   "metadata": {},
   "outputs": [
    {
     "name": "stdout",
     "output_type": "stream",
     "text": [
      "[{'object_name': 'castaway_details', 'columns': ['castaway_id', 'full_name', 'full_name_detailed', 'castaway', 'date_of_birth', 'date_of_death', 'gender', 'african', 'asian', 'latin_american', 'native_american', 'bipoc', 'lgbt', 'personality_type', 'occupation', 'three_words', 'hobbies', 'pet_peeves', 'race', 'ethnicity']}]\n"
     ]
    }
   ],
   "source": [
    "object_list = prdr.list_objects('castaway_details.rda')\n",
    "\n",
    "print(object_list)"
   ]
  },
  {
   "cell_type": "code",
   "execution_count": 20,
   "id": "1bfd0c23",
   "metadata": {},
   "outputs": [],
   "source": [
    "result = prdr.read_r('castaway_details.rda', use_objects=[\"df1\"])"
   ]
  },
  {
   "cell_type": "code",
   "execution_count": 21,
   "id": "295d4fb1",
   "metadata": {},
   "outputs": [
    {
     "name": "stdout",
     "output_type": "stream",
     "text": [
      "odict_keys([])\n"
     ]
    },
    {
     "ename": "KeyError",
     "evalue": "'df1'",
     "output_type": "error",
     "traceback": [
      "\u001b[0;31m---------------------------------------------------------------------------\u001b[0m",
      "\u001b[0;31mKeyError\u001b[0m                                  Traceback (most recent call last)",
      "Cell \u001b[0;32mIn[21], line 3\u001b[0m\n\u001b[1;32m      1\u001b[0m \u001b[38;5;66;03m# done! let's see what we got\u001b[39;00m\n\u001b[1;32m      2\u001b[0m \u001b[38;5;28mprint\u001b[39m(result\u001b[38;5;241m.\u001b[39mkeys()) \u001b[38;5;66;03m# let's check what objects we got, now only df1 is listed\u001b[39;00m\n\u001b[0;32m----> 3\u001b[0m df1 \u001b[38;5;241m=\u001b[39m result[\u001b[38;5;124m\"\u001b[39m\u001b[38;5;124mdf1\u001b[39m\u001b[38;5;124m\"\u001b[39m]\n",
      "\u001b[0;31mKeyError\u001b[0m: 'df1'"
     ]
    }
   ],
   "source": [
    "# done! let's see what we got\n",
    "print(result.keys()) # let's check what objects we got, now only df1 is listed\n",
    "df1 = result[\"df1\"] # extract the pandas data frame for object df1"
   ]
  },
  {
   "cell_type": "code",
   "execution_count": null,
   "id": "5e74f48a",
   "metadata": {},
   "outputs": [],
   "source": []
  }
 ],
 "metadata": {
  "kernelspec": {
   "display_name": "Python 3 (ipykernel)",
   "language": "python",
   "name": "python3"
  },
  "language_info": {
   "codemirror_mode": {
    "name": "ipython",
    "version": 3
   },
   "file_extension": ".py",
   "mimetype": "text/x-python",
   "name": "python",
   "nbconvert_exporter": "python",
   "pygments_lexer": "ipython3",
   "version": "3.11.5"
  }
 },
 "nbformat": 4,
 "nbformat_minor": 5
}
